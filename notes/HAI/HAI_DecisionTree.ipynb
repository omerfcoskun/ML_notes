{
 "cells": [
  {
   "cell_type": "code",
   "execution_count": 1,
   "metadata": {},
   "outputs": [],
   "source": [
    "import pandas as pd\n",
    "import numpy as np\n",
    "import matplotlib.pyplot as plt\n",
    "import seaborn as sns\n",
    "%matplotlib inline"
   ]
  },
  {
   "cell_type": "code",
   "execution_count": 2,
   "metadata": {},
   "outputs": [],
   "source": [
    "import warnings\n",
    "\n",
    "warnings.filterwarnings('ignore')"
   ]
  },
  {
   "cell_type": "code",
   "execution_count": 4,
   "metadata": {},
   "outputs": [],
   "source": [
    "df1=pd.read_csv('train1.csv')\n",
    "df2=pd.read_csv('test1.csv')"
   ]
  },
  {
   "cell_type": "code",
   "execution_count": 5,
   "metadata": {},
   "outputs": [
    {
     "data": {
      "text/plain": [
       "(216001, 84)"
      ]
     },
     "execution_count": 5,
     "metadata": {},
     "output_type": "execute_result"
    }
   ],
   "source": [
    "df1.shape"
   ]
  },
  {
   "cell_type": "code",
   "execution_count": 6,
   "metadata": {},
   "outputs": [
    {
     "data": {
      "text/plain": [
       "(43201, 84)"
      ]
     },
     "execution_count": 6,
     "metadata": {},
     "output_type": "execute_result"
    }
   ],
   "source": [
    "df2.shape"
   ]
  },
  {
   "cell_type": "code",
   "execution_count": 7,
   "metadata": {},
   "outputs": [
    {
     "data": {
      "text/html": [
       "<div>\n",
       "<style scoped>\n",
       "    .dataframe tbody tr th:only-of-type {\n",
       "        vertical-align: middle;\n",
       "    }\n",
       "\n",
       "    .dataframe tbody tr th {\n",
       "        vertical-align: top;\n",
       "    }\n",
       "\n",
       "    .dataframe thead th {\n",
       "        text-align: right;\n",
       "    }\n",
       "</style>\n",
       "<table border=\"1\" class=\"dataframe\">\n",
       "  <thead>\n",
       "    <tr style=\"text-align: right;\">\n",
       "      <th></th>\n",
       "      <th>time</th>\n",
       "      <th>P1_B2004</th>\n",
       "      <th>P1_B2016</th>\n",
       "      <th>P1_B3004</th>\n",
       "      <th>P1_B3005</th>\n",
       "      <th>P1_B4002</th>\n",
       "      <th>P1_B4005</th>\n",
       "      <th>P1_B400B</th>\n",
       "      <th>P1_B4022</th>\n",
       "      <th>P1_FCV01D</th>\n",
       "      <th>...</th>\n",
       "      <th>P4_ST_GOV</th>\n",
       "      <th>P4_ST_LD</th>\n",
       "      <th>P4_ST_PO</th>\n",
       "      <th>P4_ST_PS</th>\n",
       "      <th>P4_ST_PT01</th>\n",
       "      <th>P4_ST_TT01</th>\n",
       "      <th>attack</th>\n",
       "      <th>attack_P1</th>\n",
       "      <th>attack_P2</th>\n",
       "      <th>attack_P3</th>\n",
       "    </tr>\n",
       "  </thead>\n",
       "  <tbody>\n",
       "    <tr>\n",
       "      <th>0</th>\n",
       "      <td>2020-07-11 00:00:00</td>\n",
       "      <td>0.10121</td>\n",
       "      <td>1.29784</td>\n",
       "      <td>397.63785</td>\n",
       "      <td>1001.99799</td>\n",
       "      <td>33.6555</td>\n",
       "      <td>100.0</td>\n",
       "      <td>2847.02539</td>\n",
       "      <td>37.14706</td>\n",
       "      <td>100.0</td>\n",
       "      <td>...</td>\n",
       "      <td>16495.0</td>\n",
       "      <td>301.35992</td>\n",
       "      <td>305.03113</td>\n",
       "      <td>0</td>\n",
       "      <td>10052.0</td>\n",
       "      <td>27610.0</td>\n",
       "      <td>0</td>\n",
       "      <td>0</td>\n",
       "      <td>0</td>\n",
       "      <td>0</td>\n",
       "    </tr>\n",
       "    <tr>\n",
       "      <th>1</th>\n",
       "      <td>2020-07-11 00:00:01</td>\n",
       "      <td>0.10121</td>\n",
       "      <td>1.29692</td>\n",
       "      <td>397.63785</td>\n",
       "      <td>1001.99799</td>\n",
       "      <td>33.6555</td>\n",
       "      <td>100.0</td>\n",
       "      <td>2839.58520</td>\n",
       "      <td>37.14477</td>\n",
       "      <td>100.0</td>\n",
       "      <td>...</td>\n",
       "      <td>16402.0</td>\n",
       "      <td>297.43567</td>\n",
       "      <td>304.27161</td>\n",
       "      <td>0</td>\n",
       "      <td>10052.0</td>\n",
       "      <td>27610.0</td>\n",
       "      <td>0</td>\n",
       "      <td>0</td>\n",
       "      <td>0</td>\n",
       "      <td>0</td>\n",
       "    </tr>\n",
       "    <tr>\n",
       "      <th>2</th>\n",
       "      <td>2020-07-11 00:00:02</td>\n",
       "      <td>0.10121</td>\n",
       "      <td>1.29631</td>\n",
       "      <td>397.63785</td>\n",
       "      <td>1001.99799</td>\n",
       "      <td>33.6555</td>\n",
       "      <td>100.0</td>\n",
       "      <td>2833.26807</td>\n",
       "      <td>37.14325</td>\n",
       "      <td>100.0</td>\n",
       "      <td>...</td>\n",
       "      <td>16379.0</td>\n",
       "      <td>298.66534</td>\n",
       "      <td>303.89179</td>\n",
       "      <td>0</td>\n",
       "      <td>10050.0</td>\n",
       "      <td>27617.0</td>\n",
       "      <td>0</td>\n",
       "      <td>0</td>\n",
       "      <td>0</td>\n",
       "      <td>0</td>\n",
       "    </tr>\n",
       "    <tr>\n",
       "      <th>3</th>\n",
       "      <td>2020-07-11 00:00:03</td>\n",
       "      <td>0.10121</td>\n",
       "      <td>1.28685</td>\n",
       "      <td>397.63785</td>\n",
       "      <td>1001.99799</td>\n",
       "      <td>33.6555</td>\n",
       "      <td>100.0</td>\n",
       "      <td>2834.95264</td>\n",
       "      <td>37.11959</td>\n",
       "      <td>100.0</td>\n",
       "      <td>...</td>\n",
       "      <td>16422.0</td>\n",
       "      <td>298.06860</td>\n",
       "      <td>303.67474</td>\n",
       "      <td>0</td>\n",
       "      <td>10052.0</td>\n",
       "      <td>27614.0</td>\n",
       "      <td>0</td>\n",
       "      <td>0</td>\n",
       "      <td>0</td>\n",
       "      <td>0</td>\n",
       "    </tr>\n",
       "    <tr>\n",
       "      <th>4</th>\n",
       "      <td>2020-07-11 00:00:04</td>\n",
       "      <td>0.10121</td>\n",
       "      <td>1.28807</td>\n",
       "      <td>397.63785</td>\n",
       "      <td>1001.99799</td>\n",
       "      <td>33.6555</td>\n",
       "      <td>100.0</td>\n",
       "      <td>2832.70654</td>\n",
       "      <td>37.12265</td>\n",
       "      <td>100.0</td>\n",
       "      <td>...</td>\n",
       "      <td>16355.0</td>\n",
       "      <td>296.53137</td>\n",
       "      <td>303.22266</td>\n",
       "      <td>0</td>\n",
       "      <td>10052.0</td>\n",
       "      <td>27621.0</td>\n",
       "      <td>0</td>\n",
       "      <td>0</td>\n",
       "      <td>0</td>\n",
       "      <td>0</td>\n",
       "    </tr>\n",
       "  </tbody>\n",
       "</table>\n",
       "<p>5 rows × 84 columns</p>\n",
       "</div>"
      ],
      "text/plain": [
       "                  time  P1_B2004  P1_B2016   P1_B3004    P1_B3005  P1_B4002  \\\n",
       "0  2020-07-11 00:00:00   0.10121   1.29784  397.63785  1001.99799   33.6555   \n",
       "1  2020-07-11 00:00:01   0.10121   1.29692  397.63785  1001.99799   33.6555   \n",
       "2  2020-07-11 00:00:02   0.10121   1.29631  397.63785  1001.99799   33.6555   \n",
       "3  2020-07-11 00:00:03   0.10121   1.28685  397.63785  1001.99799   33.6555   \n",
       "4  2020-07-11 00:00:04   0.10121   1.28807  397.63785  1001.99799   33.6555   \n",
       "\n",
       "   P1_B4005    P1_B400B  P1_B4022  P1_FCV01D  ...  P4_ST_GOV   P4_ST_LD  \\\n",
       "0     100.0  2847.02539  37.14706      100.0  ...    16495.0  301.35992   \n",
       "1     100.0  2839.58520  37.14477      100.0  ...    16402.0  297.43567   \n",
       "2     100.0  2833.26807  37.14325      100.0  ...    16379.0  298.66534   \n",
       "3     100.0  2834.95264  37.11959      100.0  ...    16422.0  298.06860   \n",
       "4     100.0  2832.70654  37.12265      100.0  ...    16355.0  296.53137   \n",
       "\n",
       "    P4_ST_PO  P4_ST_PS  P4_ST_PT01  P4_ST_TT01  attack  attack_P1  attack_P2  \\\n",
       "0  305.03113         0     10052.0     27610.0       0          0          0   \n",
       "1  304.27161         0     10052.0     27610.0       0          0          0   \n",
       "2  303.89179         0     10050.0     27617.0       0          0          0   \n",
       "3  303.67474         0     10052.0     27614.0       0          0          0   \n",
       "4  303.22266         0     10052.0     27621.0       0          0          0   \n",
       "\n",
       "   attack_P3  \n",
       "0          0  \n",
       "1          0  \n",
       "2          0  \n",
       "3          0  \n",
       "4          0  \n",
       "\n",
       "[5 rows x 84 columns]"
      ]
     },
     "execution_count": 7,
     "metadata": {},
     "output_type": "execute_result"
    }
   ],
   "source": [
    "df1.head()"
   ]
  },
  {
   "cell_type": "code",
   "execution_count": 8,
   "metadata": {},
   "outputs": [
    {
     "data": {
      "text/plain": [
       "dtype('O')"
      ]
     },
     "execution_count": 8,
     "metadata": {},
     "output_type": "execute_result"
    }
   ],
   "source": [
    "df1['time'].dtypes"
   ]
  },
  {
   "cell_type": "code",
   "execution_count": 10,
   "metadata": {},
   "outputs": [],
   "source": [
    "df1['time'] = pd.to_datetime(df1['time'])"
   ]
  },
  {
   "cell_type": "code",
   "execution_count": 11,
   "metadata": {},
   "outputs": [],
   "source": [
    "df1['Year'] = df1['time'].dt.year"
   ]
  },
  {
   "cell_type": "code",
   "execution_count": 12,
   "metadata": {},
   "outputs": [],
   "source": [
    "df1['Month'] = df1['time'].dt.month\n",
    "df1['Day'] = df1['time'].dt.day\n",
    "df1['Hour'] = df1['time'].dt.hour\n",
    "df1['Minute'] = df1['time'].dt.minute\n",
    "df1['Second'] = df1['time'].dt.second"
   ]
  },
  {
   "cell_type": "code",
   "execution_count": 14,
   "metadata": {},
   "outputs": [],
   "source": [
    "df1.drop('time', axis=1, inplace = True)"
   ]
  },
  {
   "cell_type": "code",
   "execution_count": 15,
   "metadata": {},
   "outputs": [
    {
     "data": {
      "text/plain": [
       "dtype('O')"
      ]
     },
     "execution_count": 15,
     "metadata": {},
     "output_type": "execute_result"
    }
   ],
   "source": [
    "df2['time'].dtypes"
   ]
  },
  {
   "cell_type": "code",
   "execution_count": 16,
   "metadata": {},
   "outputs": [],
   "source": [
    "df2['time'] = pd.to_datetime(df2['time'])\n",
    "df2['Year'] = df2['time'].dt.year\n",
    "df2['Month'] = df2['time'].dt.month\n",
    "df2['Day'] = df2['time'].dt.day\n",
    "df2['Hour'] = df2['time'].dt.hour\n",
    "df2['Minute'] = df2['time'].dt.minute\n",
    "df2['Second'] = df2['time'].dt.second"
   ]
  },
  {
   "cell_type": "code",
   "execution_count": 30,
   "metadata": {},
   "outputs": [],
   "source": [
    "df2.drop('time', axis=1, inplace = True)"
   ]
  },
  {
   "cell_type": "code",
   "execution_count": 46,
   "metadata": {},
   "outputs": [
    {
     "data": {
      "text/html": [
       "<div>\n",
       "<style scoped>\n",
       "    .dataframe tbody tr th:only-of-type {\n",
       "        vertical-align: middle;\n",
       "    }\n",
       "\n",
       "    .dataframe tbody tr th {\n",
       "        vertical-align: top;\n",
       "    }\n",
       "\n",
       "    .dataframe thead th {\n",
       "        text-align: right;\n",
       "    }\n",
       "</style>\n",
       "<table border=\"1\" class=\"dataframe\">\n",
       "  <thead>\n",
       "    <tr style=\"text-align: right;\">\n",
       "      <th></th>\n",
       "      <th>P1_B2004</th>\n",
       "      <th>P1_B2016</th>\n",
       "      <th>P1_B3004</th>\n",
       "      <th>P1_B3005</th>\n",
       "      <th>P1_B4002</th>\n",
       "      <th>P1_B4005</th>\n",
       "      <th>P1_B400B</th>\n",
       "      <th>P1_B4022</th>\n",
       "      <th>P1_FCV01D</th>\n",
       "      <th>P1_FCV01Z</th>\n",
       "      <th>...</th>\n",
       "      <th>attack</th>\n",
       "      <th>attack_P1</th>\n",
       "      <th>attack_P2</th>\n",
       "      <th>attack_P3</th>\n",
       "      <th>Year</th>\n",
       "      <th>Month</th>\n",
       "      <th>Day</th>\n",
       "      <th>Hour</th>\n",
       "      <th>Minute</th>\n",
       "      <th>Second</th>\n",
       "    </tr>\n",
       "  </thead>\n",
       "  <tbody>\n",
       "    <tr>\n",
       "      <th>0</th>\n",
       "      <td>0.10121</td>\n",
       "      <td>1.29784</td>\n",
       "      <td>397.63785</td>\n",
       "      <td>1001.99799</td>\n",
       "      <td>33.6555</td>\n",
       "      <td>100.0</td>\n",
       "      <td>2847.02539</td>\n",
       "      <td>37.14706</td>\n",
       "      <td>100.0</td>\n",
       "      <td>100.0000</td>\n",
       "      <td>...</td>\n",
       "      <td>0</td>\n",
       "      <td>0</td>\n",
       "      <td>0</td>\n",
       "      <td>0</td>\n",
       "      <td>2020</td>\n",
       "      <td>7</td>\n",
       "      <td>11</td>\n",
       "      <td>0</td>\n",
       "      <td>0</td>\n",
       "      <td>0</td>\n",
       "    </tr>\n",
       "    <tr>\n",
       "      <th>1</th>\n",
       "      <td>0.10121</td>\n",
       "      <td>1.29692</td>\n",
       "      <td>397.63785</td>\n",
       "      <td>1001.99799</td>\n",
       "      <td>33.6555</td>\n",
       "      <td>100.0</td>\n",
       "      <td>2839.58520</td>\n",
       "      <td>37.14477</td>\n",
       "      <td>100.0</td>\n",
       "      <td>100.0000</td>\n",
       "      <td>...</td>\n",
       "      <td>0</td>\n",
       "      <td>0</td>\n",
       "      <td>0</td>\n",
       "      <td>0</td>\n",
       "      <td>2020</td>\n",
       "      <td>7</td>\n",
       "      <td>11</td>\n",
       "      <td>0</td>\n",
       "      <td>0</td>\n",
       "      <td>1</td>\n",
       "    </tr>\n",
       "    <tr>\n",
       "      <th>2</th>\n",
       "      <td>0.10121</td>\n",
       "      <td>1.29631</td>\n",
       "      <td>397.63785</td>\n",
       "      <td>1001.99799</td>\n",
       "      <td>33.6555</td>\n",
       "      <td>100.0</td>\n",
       "      <td>2833.26807</td>\n",
       "      <td>37.14325</td>\n",
       "      <td>100.0</td>\n",
       "      <td>100.0000</td>\n",
       "      <td>...</td>\n",
       "      <td>0</td>\n",
       "      <td>0</td>\n",
       "      <td>0</td>\n",
       "      <td>0</td>\n",
       "      <td>2020</td>\n",
       "      <td>7</td>\n",
       "      <td>11</td>\n",
       "      <td>0</td>\n",
       "      <td>0</td>\n",
       "      <td>2</td>\n",
       "    </tr>\n",
       "    <tr>\n",
       "      <th>3</th>\n",
       "      <td>0.10121</td>\n",
       "      <td>1.28685</td>\n",
       "      <td>397.63785</td>\n",
       "      <td>1001.99799</td>\n",
       "      <td>33.6555</td>\n",
       "      <td>100.0</td>\n",
       "      <td>2834.95264</td>\n",
       "      <td>37.11959</td>\n",
       "      <td>100.0</td>\n",
       "      <td>100.0000</td>\n",
       "      <td>...</td>\n",
       "      <td>0</td>\n",
       "      <td>0</td>\n",
       "      <td>0</td>\n",
       "      <td>0</td>\n",
       "      <td>2020</td>\n",
       "      <td>7</td>\n",
       "      <td>11</td>\n",
       "      <td>0</td>\n",
       "      <td>0</td>\n",
       "      <td>3</td>\n",
       "    </tr>\n",
       "    <tr>\n",
       "      <th>4</th>\n",
       "      <td>0.10121</td>\n",
       "      <td>1.28807</td>\n",
       "      <td>397.63785</td>\n",
       "      <td>1001.99799</td>\n",
       "      <td>33.6555</td>\n",
       "      <td>100.0</td>\n",
       "      <td>2832.70654</td>\n",
       "      <td>37.12265</td>\n",
       "      <td>100.0</td>\n",
       "      <td>100.0000</td>\n",
       "      <td>...</td>\n",
       "      <td>0</td>\n",
       "      <td>0</td>\n",
       "      <td>0</td>\n",
       "      <td>0</td>\n",
       "      <td>2020</td>\n",
       "      <td>7</td>\n",
       "      <td>11</td>\n",
       "      <td>0</td>\n",
       "      <td>0</td>\n",
       "      <td>4</td>\n",
       "    </tr>\n",
       "    <tr>\n",
       "      <th>...</th>\n",
       "      <td>...</td>\n",
       "      <td>...</td>\n",
       "      <td>...</td>\n",
       "      <td>...</td>\n",
       "      <td>...</td>\n",
       "      <td>...</td>\n",
       "      <td>...</td>\n",
       "      <td>...</td>\n",
       "      <td>...</td>\n",
       "      <td>...</td>\n",
       "      <td>...</td>\n",
       "      <td>...</td>\n",
       "      <td>...</td>\n",
       "      <td>...</td>\n",
       "      <td>...</td>\n",
       "      <td>...</td>\n",
       "      <td>...</td>\n",
       "      <td>...</td>\n",
       "      <td>...</td>\n",
       "      <td>...</td>\n",
       "      <td>...</td>\n",
       "    </tr>\n",
       "    <tr>\n",
       "      <th>215996</th>\n",
       "      <td>0.09879</td>\n",
       "      <td>1.36575</td>\n",
       "      <td>381.97888</td>\n",
       "      <td>1120.64502</td>\n",
       "      <td>32.0000</td>\n",
       "      <td>0.0</td>\n",
       "      <td>31.97761</td>\n",
       "      <td>35.66742</td>\n",
       "      <td>0.0</td>\n",
       "      <td>0.3067</td>\n",
       "      <td>...</td>\n",
       "      <td>0</td>\n",
       "      <td>0</td>\n",
       "      <td>0</td>\n",
       "      <td>0</td>\n",
       "      <td>2020</td>\n",
       "      <td>7</td>\n",
       "      <td>13</td>\n",
       "      <td>11</td>\n",
       "      <td>59</td>\n",
       "      <td>56</td>\n",
       "    </tr>\n",
       "    <tr>\n",
       "      <th>215997</th>\n",
       "      <td>0.09879</td>\n",
       "      <td>1.37201</td>\n",
       "      <td>381.97888</td>\n",
       "      <td>1120.64502</td>\n",
       "      <td>32.0000</td>\n",
       "      <td>0.0</td>\n",
       "      <td>30.98430</td>\n",
       "      <td>35.68306</td>\n",
       "      <td>0.0</td>\n",
       "      <td>0.3067</td>\n",
       "      <td>...</td>\n",
       "      <td>0</td>\n",
       "      <td>0</td>\n",
       "      <td>0</td>\n",
       "      <td>0</td>\n",
       "      <td>2020</td>\n",
       "      <td>7</td>\n",
       "      <td>13</td>\n",
       "      <td>11</td>\n",
       "      <td>59</td>\n",
       "      <td>57</td>\n",
       "    </tr>\n",
       "    <tr>\n",
       "      <th>215998</th>\n",
       "      <td>0.09879</td>\n",
       "      <td>1.37415</td>\n",
       "      <td>381.97888</td>\n",
       "      <td>1120.64502</td>\n",
       "      <td>32.0000</td>\n",
       "      <td>0.0</td>\n",
       "      <td>31.97761</td>\n",
       "      <td>35.68840</td>\n",
       "      <td>0.0</td>\n",
       "      <td>0.3067</td>\n",
       "      <td>...</td>\n",
       "      <td>0</td>\n",
       "      <td>0</td>\n",
       "      <td>0</td>\n",
       "      <td>0</td>\n",
       "      <td>2020</td>\n",
       "      <td>7</td>\n",
       "      <td>13</td>\n",
       "      <td>11</td>\n",
       "      <td>59</td>\n",
       "      <td>58</td>\n",
       "    </tr>\n",
       "    <tr>\n",
       "      <th>215999</th>\n",
       "      <td>0.09879</td>\n",
       "      <td>1.37567</td>\n",
       "      <td>381.97888</td>\n",
       "      <td>1120.64502</td>\n",
       "      <td>32.0000</td>\n",
       "      <td>0.0</td>\n",
       "      <td>32.97053</td>\n",
       "      <td>35.69221</td>\n",
       "      <td>0.0</td>\n",
       "      <td>0.3067</td>\n",
       "      <td>...</td>\n",
       "      <td>0</td>\n",
       "      <td>0</td>\n",
       "      <td>0</td>\n",
       "      <td>0</td>\n",
       "      <td>2020</td>\n",
       "      <td>7</td>\n",
       "      <td>13</td>\n",
       "      <td>11</td>\n",
       "      <td>59</td>\n",
       "      <td>59</td>\n",
       "    </tr>\n",
       "    <tr>\n",
       "      <th>216000</th>\n",
       "      <td>0.09879</td>\n",
       "      <td>1.37949</td>\n",
       "      <td>381.97888</td>\n",
       "      <td>1120.64502</td>\n",
       "      <td>32.0000</td>\n",
       "      <td>0.0</td>\n",
       "      <td>34.95676</td>\n",
       "      <td>35.70175</td>\n",
       "      <td>0.0</td>\n",
       "      <td>0.3067</td>\n",
       "      <td>...</td>\n",
       "      <td>0</td>\n",
       "      <td>0</td>\n",
       "      <td>0</td>\n",
       "      <td>0</td>\n",
       "      <td>2020</td>\n",
       "      <td>7</td>\n",
       "      <td>13</td>\n",
       "      <td>12</td>\n",
       "      <td>0</td>\n",
       "      <td>0</td>\n",
       "    </tr>\n",
       "  </tbody>\n",
       "</table>\n",
       "<p>216001 rows × 89 columns</p>\n",
       "</div>"
      ],
      "text/plain": [
       "        P1_B2004  P1_B2016   P1_B3004    P1_B3005  P1_B4002  P1_B4005  \\\n",
       "0        0.10121   1.29784  397.63785  1001.99799   33.6555     100.0   \n",
       "1        0.10121   1.29692  397.63785  1001.99799   33.6555     100.0   \n",
       "2        0.10121   1.29631  397.63785  1001.99799   33.6555     100.0   \n",
       "3        0.10121   1.28685  397.63785  1001.99799   33.6555     100.0   \n",
       "4        0.10121   1.28807  397.63785  1001.99799   33.6555     100.0   \n",
       "...          ...       ...        ...         ...       ...       ...   \n",
       "215996   0.09879   1.36575  381.97888  1120.64502   32.0000       0.0   \n",
       "215997   0.09879   1.37201  381.97888  1120.64502   32.0000       0.0   \n",
       "215998   0.09879   1.37415  381.97888  1120.64502   32.0000       0.0   \n",
       "215999   0.09879   1.37567  381.97888  1120.64502   32.0000       0.0   \n",
       "216000   0.09879   1.37949  381.97888  1120.64502   32.0000       0.0   \n",
       "\n",
       "          P1_B400B  P1_B4022  P1_FCV01D  P1_FCV01Z  ...  attack  attack_P1  \\\n",
       "0       2847.02539  37.14706      100.0   100.0000  ...       0          0   \n",
       "1       2839.58520  37.14477      100.0   100.0000  ...       0          0   \n",
       "2       2833.26807  37.14325      100.0   100.0000  ...       0          0   \n",
       "3       2834.95264  37.11959      100.0   100.0000  ...       0          0   \n",
       "4       2832.70654  37.12265      100.0   100.0000  ...       0          0   \n",
       "...            ...       ...        ...        ...  ...     ...        ...   \n",
       "215996    31.97761  35.66742        0.0     0.3067  ...       0          0   \n",
       "215997    30.98430  35.68306        0.0     0.3067  ...       0          0   \n",
       "215998    31.97761  35.68840        0.0     0.3067  ...       0          0   \n",
       "215999    32.97053  35.69221        0.0     0.3067  ...       0          0   \n",
       "216000    34.95676  35.70175        0.0     0.3067  ...       0          0   \n",
       "\n",
       "        attack_P2  attack_P3  Year  Month  Day  Hour  Minute  Second  \n",
       "0               0          0  2020      7   11     0       0       0  \n",
       "1               0          0  2020      7   11     0       0       1  \n",
       "2               0          0  2020      7   11     0       0       2  \n",
       "3               0          0  2020      7   11     0       0       3  \n",
       "4               0          0  2020      7   11     0       0       4  \n",
       "...           ...        ...   ...    ...  ...   ...     ...     ...  \n",
       "215996          0          0  2020      7   13    11      59      56  \n",
       "215997          0          0  2020      7   13    11      59      57  \n",
       "215998          0          0  2020      7   13    11      59      58  \n",
       "215999          0          0  2020      7   13    11      59      59  \n",
       "216000          0          0  2020      7   13    12       0       0  \n",
       "\n",
       "[216001 rows x 89 columns]"
      ]
     },
     "execution_count": 46,
     "metadata": {},
     "output_type": "execute_result"
    }
   ],
   "source": []
  },
  {
   "cell_type": "code",
   "execution_count": null,
   "metadata": {},
   "outputs": [],
   "source": []
  },
  {
   "cell_type": "code",
   "execution_count": null,
   "metadata": {},
   "outputs": [],
   "source": []
  },
  {
   "cell_type": "code",
   "execution_count": 31,
   "metadata": {},
   "outputs": [],
   "source": [
    "X_train=df1.drop([ 'P2_24Vdc',\n",
    "       'P2_ASD', 'P2_AutoGO', 'P2_CO_rpm', 'P2_Emerg', 'P2_HILout', 'P2_MSD',\n",
    "       'P2_ManualGO', 'P2_OnOff', 'P2_RTR', 'P2_SIT01', 'P2_SIT02',\n",
    "       'P2_TripEx', 'P2_VT01', 'P2_VTR01', 'P2_VTR02', 'P2_VTR03', 'P2_VTR04',\n",
    "       'P2_VXT02', 'P2_VXT03', 'P2_VYT02', 'P2_VYT03', 'P3_FIT01', 'P3_LCP01D',\n",
    "       'P3_LCV01D', 'P3_LH', 'P3_LIT01', 'P3_LL', 'P3_PIT01', 'P4_HT_FD',\n",
    "       'P4_HT_LD', 'P4_HT_PO', 'P4_HT_PS', 'P4_LD', 'P4_ST_FD', 'P4_ST_GOV',\n",
    "       'P4_ST_LD', 'P4_ST_PO', 'P4_ST_PS', 'P4_ST_PT01', 'P4_ST_TT01',\n",
    "       'attack', 'attack_P1', 'attack_P2', 'attack_P3'],axis=1)"
   ]
  },
  {
   "cell_type": "code",
   "execution_count": null,
   "metadata": {},
   "outputs": [],
   "source": []
  },
  {
   "cell_type": "code",
   "execution_count": 32,
   "metadata": {},
   "outputs": [],
   "source": [
    "X_test=df2.drop([ 'P2_24Vdc',\n",
    "       'P2_ASD', 'P2_AutoGO', 'P2_CO_rpm', 'P2_Emerg', 'P2_HILout', 'P2_MSD',\n",
    "       'P2_ManualGO', 'P2_OnOff', 'P2_RTR', 'P2_SIT01', 'P2_SIT02',\n",
    "       'P2_TripEx', 'P2_VT01', 'P2_VTR01', 'P2_VTR02', 'P2_VTR03', 'P2_VTR04',\n",
    "       'P2_VXT02', 'P2_VXT03', 'P2_VYT02', 'P2_VYT03', 'P3_FIT01', 'P3_LCP01D',\n",
    "       'P3_LCV01D', 'P3_LH', 'P3_LIT01', 'P3_LL', 'P3_PIT01', 'P4_HT_FD',\n",
    "       'P4_HT_LD', 'P4_HT_PO', 'P4_HT_PS', 'P4_LD', 'P4_ST_FD', 'P4_ST_GOV',\n",
    "       'P4_ST_LD', 'P4_ST_PO', 'P4_ST_PS', 'P4_ST_PT01', 'P4_ST_TT01',\n",
    "       'attack', 'attack_P1', 'attack_P2', 'attack_P3'],axis=1)"
   ]
  },
  {
   "cell_type": "code",
   "execution_count": 33,
   "metadata": {},
   "outputs": [
    {
     "data": {
      "text/plain": [
       "((216001, 44), (43201, 44))"
      ]
     },
     "execution_count": 33,
     "metadata": {},
     "output_type": "execute_result"
    }
   ],
   "source": [
    "X_train.shape,X_test.shape"
   ]
  },
  {
   "cell_type": "code",
   "execution_count": 39,
   "metadata": {},
   "outputs": [],
   "source": [
    "y_train=df1.drop([ 'P1_B2004', 'P1_B2016', 'P1_B3004', 'P1_B3005', 'P1_B4002',\n",
    "       'P1_B4005', 'P1_B400B', 'P1_B4022', 'P1_FCV01D', 'P1_FCV01Z',\n",
    "       'P1_FCV02D', 'P1_FCV02Z', 'P1_FCV03D', 'P1_FCV03Z', 'P1_FT01',\n",
    "       'P1_FT01Z', 'P1_FT02', 'P1_FT02Z', 'P1_FT03', 'P1_FT03Z', 'P1_LCV01D',\n",
    "       'P1_LCV01Z', 'P1_LIT01', 'P1_PCV01D', 'P1_PCV01Z', 'P1_PCV02D',\n",
    "       'P1_PCV02Z', 'P1_PIT01', 'P1_PIT02', 'P1_PP01AD', 'P1_PP01AR',\n",
    "       'P1_PP01BD', 'P1_PP01BR', 'P1_PP02D', 'P1_PP02R', 'P1_STSP', 'P1_TIT01',\n",
    "       'P1_TIT02', 'P2_24Vdc', 'P2_ASD', 'P2_AutoGO', 'P2_CO_rpm', 'P2_Emerg',\n",
    "       'P2_HILout', 'P2_MSD', 'P2_ManualGO', 'P2_OnOff', 'P2_RTR', 'P2_SIT01',\n",
    "       'P2_SIT02', 'P2_TripEx', 'P2_VT01', 'P2_VTR01', 'P2_VTR02', 'P2_VTR03',\n",
    "       'P2_VTR04', 'P2_VXT02', 'P2_VXT03', 'P2_VYT02', 'P2_VYT03', 'P3_FIT01',\n",
    "       'P3_LCP01D', 'P3_LCV01D', 'P3_LH', 'P3_LIT01', 'P3_LL', 'P3_PIT01',\n",
    "       'P4_HT_FD', 'P4_HT_LD', 'P4_HT_PO', 'P4_HT_PS', 'P4_LD', 'P4_ST_FD',\n",
    "       'P4_ST_GOV', 'P4_ST_LD', 'P4_ST_PO', 'P4_ST_PS', 'P4_ST_PT01',\n",
    "       'P4_ST_TT01', 'attack', 'attack_P2', 'attack_P3','Year','Month','Day','Hour','Minute','Second'],axis=1)"
   ]
  },
  {
   "cell_type": "code",
   "execution_count": 44,
   "metadata": {},
   "outputs": [],
   "source": [
    "y_test=df2.drop([ 'P1_B2004', 'P1_B2016', 'P1_B3004', 'P1_B3005', 'P1_B4002',\n",
    "       'P1_B4005', 'P1_B400B', 'P1_B4022', 'P1_FCV01D', 'P1_FCV01Z',\n",
    "       'P1_FCV02D', 'P1_FCV02Z', 'P1_FCV03D', 'P1_FCV03Z', 'P1_FT01',\n",
    "       'P1_FT01Z', 'P1_FT02', 'P1_FT02Z', 'P1_FT03', 'P1_FT03Z', 'P1_LCV01D',\n",
    "       'P1_LCV01Z', 'P1_LIT01', 'P1_PCV01D', 'P1_PCV01Z', 'P1_PCV02D',\n",
    "       'P1_PCV02Z', 'P1_PIT01', 'P1_PIT02', 'P1_PP01AD', 'P1_PP01AR',\n",
    "       'P1_PP01BD', 'P1_PP01BR', 'P1_PP02D', 'P1_PP02R', 'P1_STSP', 'P1_TIT01',\n",
    "       'P1_TIT02', 'P2_24Vdc', 'P2_ASD', 'P2_AutoGO', 'P2_CO_rpm', 'P2_Emerg',\n",
    "       'P2_HILout', 'P2_MSD', 'P2_ManualGO', 'P2_OnOff', 'P2_RTR', 'P2_SIT01',\n",
    "       'P2_SIT02', 'P2_TripEx', 'P2_VT01', 'P2_VTR01', 'P2_VTR02', 'P2_VTR03',\n",
    "       'P2_VTR04', 'P2_VXT02', 'P2_VXT03', 'P2_VYT02', 'P2_VYT03', 'P3_FIT01',\n",
    "       'P3_LCP01D', 'P3_LCV01D', 'P3_LH', 'P3_LIT01', 'P3_LL', 'P3_PIT01',\n",
    "       'P4_HT_FD', 'P4_HT_LD', 'P4_HT_PO', 'P4_HT_PS', 'P4_LD', 'P4_ST_FD',\n",
    "       'P4_ST_GOV', 'P4_ST_LD', 'P4_ST_PO', 'P4_ST_PS', 'P4_ST_PT01',\n",
    "       'P4_ST_TT01', 'attack', 'attack_P2', 'attack_P3','Year','Month','Day','Hour','Minute','Second'],axis=1)"
   ]
  },
  {
   "cell_type": "code",
   "execution_count": 47,
   "metadata": {},
   "outputs": [],
   "source": [
    "from sklearn.tree import DecisionTreeClassifier"
   ]
  },
  {
   "cell_type": "code",
   "execution_count": 48,
   "metadata": {},
   "outputs": [
    {
     "data": {
      "text/plain": [
       "DecisionTreeClassifier(max_depth=3, random_state=0)"
      ]
     },
     "execution_count": 48,
     "metadata": {},
     "output_type": "execute_result"
    }
   ],
   "source": [
    "clf_gini = DecisionTreeClassifier(criterion='gini', max_depth=3, random_state=0)\n",
    "\n",
    "\n",
    "\n",
    "clf_gini.fit(X_train, y_train)"
   ]
  },
  {
   "cell_type": "code",
   "execution_count": 49,
   "metadata": {},
   "outputs": [],
   "source": [
    "y_pred_gini = clf_gini.predict(X_test)"
   ]
  },
  {
   "cell_type": "code",
   "execution_count": 50,
   "metadata": {},
   "outputs": [
    {
     "name": "stdout",
     "output_type": "stream",
     "text": [
      "Model accuracy score with criterion gini index: 0.9889\n"
     ]
    }
   ],
   "source": [
    "from sklearn.metrics import accuracy_score\n",
    "\n",
    "print('Model accuracy score with criterion gini index: {0:0.4f}'. format(accuracy_score(y_test, y_pred_gini)))"
   ]
  },
  {
   "cell_type": "code",
   "execution_count": 51,
   "metadata": {},
   "outputs": [
    {
     "data": {
      "text/plain": [
       "array([0, 0, 0, ..., 0, 0, 0], dtype=int64)"
      ]
     },
     "execution_count": 51,
     "metadata": {},
     "output_type": "execute_result"
    }
   ],
   "source": [
    "y_pred_train_gini = clf_gini.predict(X_train)\n",
    "\n",
    "y_pred_train_gini"
   ]
  },
  {
   "cell_type": "code",
   "execution_count": 52,
   "metadata": {},
   "outputs": [
    {
     "name": "stdout",
     "output_type": "stream",
     "text": [
      "Training-set accuracy score: 1.0000\n"
     ]
    }
   ],
   "source": [
    "print('Training-set accuracy score: {0:0.4f}'. format(accuracy_score(y_train, y_pred_train_gini)))"
   ]
  },
  {
   "cell_type": "code",
   "execution_count": 55,
   "metadata": {},
   "outputs": [
    {
     "data": {
      "text/plain": [
       "DecisionTreeClassifier(criterion='entropy', max_depth=3, random_state=0)"
      ]
     },
     "execution_count": 55,
     "metadata": {},
     "output_type": "execute_result"
    }
   ],
   "source": [
    "clf_en = DecisionTreeClassifier(criterion='entropy', max_depth=3, random_state=0)\n",
    "\n",
    "\n",
    "# fit the model\n",
    "clf_en.fit(X_train, y_train)"
   ]
  },
  {
   "cell_type": "code",
   "execution_count": 56,
   "metadata": {},
   "outputs": [],
   "source": [
    "y_pred_en = clf_en.predict(X_test)"
   ]
  },
  {
   "cell_type": "code",
   "execution_count": 57,
   "metadata": {},
   "outputs": [
    {
     "name": "stdout",
     "output_type": "stream",
     "text": [
      "Model accuracy score with criterion entropy: 0.9889\n"
     ]
    }
   ],
   "source": [
    "from sklearn.metrics import accuracy_score\n",
    "\n",
    "print('Model accuracy score with criterion entropy: {0:0.4f}'. format(accuracy_score(y_test, y_pred_en)))"
   ]
  },
  {
   "cell_type": "code",
   "execution_count": 58,
   "metadata": {},
   "outputs": [
    {
     "data": {
      "text/plain": [
       "array([0, 0, 0, ..., 0, 0, 0], dtype=int64)"
      ]
     },
     "execution_count": 58,
     "metadata": {},
     "output_type": "execute_result"
    }
   ],
   "source": [
    "\n",
    "y_pred_train_en = clf_en.predict(X_train)\n",
    "\n",
    "y_pred_train_en"
   ]
  },
  {
   "cell_type": "code",
   "execution_count": 59,
   "metadata": {},
   "outputs": [
    {
     "name": "stdout",
     "output_type": "stream",
     "text": [
      "Training-set accuracy score: 1.0000\n"
     ]
    }
   ],
   "source": [
    "print('Training-set accuracy score: {0:0.4f}'. format(accuracy_score(y_train, y_pred_train_en)))"
   ]
  },
  {
   "cell_type": "code",
   "execution_count": 60,
   "metadata": {},
   "outputs": [
    {
     "name": "stdout",
     "output_type": "stream",
     "text": [
      "Training set score: 1.0000\n",
      "Test set score: 0.9889\n"
     ]
    }
   ],
   "source": [
    "print('Training set score: {:.4f}'.format(clf_en.score(X_train, y_train)))\n",
    "\n",
    "print('Test set score: {:.4f}'.format(clf_en.score(X_test, y_test)))"
   ]
  },
  {
   "cell_type": "code",
   "execution_count": 61,
   "metadata": {},
   "outputs": [
    {
     "name": "stdout",
     "output_type": "stream",
     "text": [
      "Confusion matrix\n",
      "\n",
      " [[42721     0]\n",
      " [  480     0]]\n"
     ]
    }
   ],
   "source": [
    "from sklearn.metrics import confusion_matrix\n",
    "\n",
    "cm = confusion_matrix(y_test, y_pred_en)\n",
    "\n",
    "print('Confusion matrix\\n\\n', cm)"
   ]
  },
  {
   "cell_type": "code",
   "execution_count": 62,
   "metadata": {},
   "outputs": [
    {
     "name": "stdout",
     "output_type": "stream",
     "text": [
      "              precision    recall  f1-score   support\n",
      "\n",
      "           0       0.99      1.00      0.99     42721\n",
      "           1       0.00      0.00      0.00       480\n",
      "\n",
      "    accuracy                           0.99     43201\n",
      "   macro avg       0.49      0.50      0.50     43201\n",
      "weighted avg       0.98      0.99      0.98     43201\n",
      "\n"
     ]
    }
   ],
   "source": [
    "\n",
    "from sklearn.metrics import classification_report\n",
    "\n",
    "print(classification_report(y_test, y_pred_en))"
   ]
  },
  {
   "cell_type": "code",
   "execution_count": 64,
   "metadata": {},
   "outputs": [
    {
     "data": {
      "text/plain": [
       "<AxesSubplot:>"
      ]
     },
     "execution_count": 64,
     "metadata": {},
     "output_type": "execute_result"
    },
    {
     "data": {
      "image/png": "[encoded data removed]",
      "text/plain": [
       "<Figure size 432x288 with 2 Axes>"
      ]
     },
     "metadata": {
      "needs_background": "light"
     },
     "output_type": "display_data"
    }
   ],
   "source": [
    "plt.figure(figsize=(6,4))\n",
    "\n",
    "cm_matrix = pd.DataFrame(data=cm, columns=['Actual Positive:1', 'Actual Negative:0'], \n",
    "                                 index=['Predict Positive:1', 'Predict Negative:0'])\n",
    "\n",
    "sns.heatmap(cm_matrix, annot=True, fmt='d', cmap='YlGnBu')"
   ]
  }
 ],
 "metadata": {
  "kernelspec": {
   "display_name": "Python 3",
   "language": "python",
   "name": "python3"
  },
  "language_info": {
   "codemirror_mode": {
    "name": "ipython",
    "version": 3
   },
   "file_extension": ".py",
   "mimetype": "text/x-python",
   "name": "python",
   "nbconvert_exporter": "python",
   "pygments_lexer": "ipython3",
   "version": "3.8.5"
  }
 },
 "nbformat": 4,
 "nbformat_minor": 4
}
